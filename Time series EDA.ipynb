{
 "cells": [
  {
   "cell_type": "code",
   "execution_count": 1,
   "id": "28c8617c",
   "metadata": {},
   "outputs": [
    {
     "name": "stdout",
     "output_type": "stream",
     "text": [
      "Collecting pandas_datareader\n",
      "  Downloading pandas_datareader-0.10.0-py3-none-any.whl (109 kB)\n",
      "Requirement already satisfied: lxml in c:\\users\\mahed\\anaconda3\\lib\\site-packages (from pandas_datareader) (4.8.0)\n",
      "Requirement already satisfied: pandas>=0.23 in c:\\users\\mahed\\anaconda3\\lib\\site-packages (from pandas_datareader) (1.4.2)\n",
      "Requirement already satisfied: requests>=2.19.0 in c:\\users\\mahed\\anaconda3\\lib\\site-packages (from pandas_datareader) (2.27.1)\n",
      "Requirement already satisfied: python-dateutil>=2.8.1 in c:\\users\\mahed\\anaconda3\\lib\\site-packages (from pandas>=0.23->pandas_datareader) (2.8.2)\n",
      "Requirement already satisfied: numpy>=1.18.5 in c:\\users\\mahed\\anaconda3\\lib\\site-packages (from pandas>=0.23->pandas_datareader) (1.21.5)\n",
      "Requirement already satisfied: pytz>=2020.1 in c:\\users\\mahed\\anaconda3\\lib\\site-packages (from pandas>=0.23->pandas_datareader) (2021.3)\n",
      "Requirement already satisfied: six>=1.5 in c:\\users\\mahed\\anaconda3\\lib\\site-packages (from python-dateutil>=2.8.1->pandas>=0.23->pandas_datareader) (1.16.0)\n",
      "Requirement already satisfied: charset-normalizer~=2.0.0 in c:\\users\\mahed\\anaconda3\\lib\\site-packages (from requests>=2.19.0->pandas_datareader) (2.0.4)\n",
      "Requirement already satisfied: idna<4,>=2.5 in c:\\users\\mahed\\anaconda3\\lib\\site-packages (from requests>=2.19.0->pandas_datareader) (3.3)\n",
      "Requirement already satisfied: urllib3<1.27,>=1.21.1 in c:\\users\\mahed\\anaconda3\\lib\\site-packages (from requests>=2.19.0->pandas_datareader) (1.26.9)\n",
      "Requirement already satisfied: certifi>=2017.4.17 in c:\\users\\mahed\\anaconda3\\lib\\site-packages (from requests>=2.19.0->pandas_datareader) (2021.10.8)\n",
      "Installing collected packages: pandas-datareader\n",
      "Successfully installed pandas-datareader-0.10.0\n"
     ]
    }
   ],
   "source": [
    "!pip install pandas_datareader"
   ]
  },
  {
   "cell_type": "code",
   "execution_count": 37,
   "id": "9592b22b",
   "metadata": {},
   "outputs": [],
   "source": [
    "import pandas_datareader as pdr\n",
    "import pandas as pd\n",
    "import numpy as np\n",
    "import matplotlib.pyplot as plt \n",
    "%matplotlib inline"
   ]
  },
  {
   "cell_type": "code",
   "execution_count": 4,
   "id": "d7e3f004",
   "metadata": {},
   "outputs": [],
   "source": [
    "df_tsla=pdr.get_data_yahoo('TSLA')"
   ]
  },
  {
   "cell_type": "code",
   "execution_count": 6,
   "id": "acd94b7f",
   "metadata": {},
   "outputs": [
    {
     "data": {
      "text/html": [
       "<div>\n",
       "<style scoped>\n",
       "    .dataframe tbody tr th:only-of-type {\n",
       "        vertical-align: middle;\n",
       "    }\n",
       "\n",
       "    .dataframe tbody tr th {\n",
       "        vertical-align: top;\n",
       "    }\n",
       "\n",
       "    .dataframe thead th {\n",
       "        text-align: right;\n",
       "    }\n",
       "</style>\n",
       "<table border=\"1\" class=\"dataframe\">\n",
       "  <thead>\n",
       "    <tr style=\"text-align: right;\">\n",
       "      <th></th>\n",
       "      <th>High</th>\n",
       "      <th>Low</th>\n",
       "      <th>Open</th>\n",
       "      <th>Close</th>\n",
       "      <th>Volume</th>\n",
       "      <th>Adj Close</th>\n",
       "    </tr>\n",
       "    <tr>\n",
       "      <th>Date</th>\n",
       "      <th></th>\n",
       "      <th></th>\n",
       "      <th></th>\n",
       "      <th></th>\n",
       "      <th></th>\n",
       "      <th></th>\n",
       "    </tr>\n",
       "  </thead>\n",
       "  <tbody>\n",
       "    <tr>\n",
       "      <th>2022-10-12</th>\n",
       "      <td>219.300003</td>\n",
       "      <td>211.509995</td>\n",
       "      <td>215.330002</td>\n",
       "      <td>217.240005</td>\n",
       "      <td>66860700.0</td>\n",
       "      <td>217.240005</td>\n",
       "    </tr>\n",
       "    <tr>\n",
       "      <th>2022-10-13</th>\n",
       "      <td>222.990005</td>\n",
       "      <td>206.220001</td>\n",
       "      <td>208.300003</td>\n",
       "      <td>221.720001</td>\n",
       "      <td>91483000.0</td>\n",
       "      <td>221.720001</td>\n",
       "    </tr>\n",
       "    <tr>\n",
       "      <th>2022-10-14</th>\n",
       "      <td>226.259995</td>\n",
       "      <td>204.160004</td>\n",
       "      <td>224.009995</td>\n",
       "      <td>204.990005</td>\n",
       "      <td>94124500.0</td>\n",
       "      <td>204.990005</td>\n",
       "    </tr>\n",
       "    <tr>\n",
       "      <th>2022-10-17</th>\n",
       "      <td>221.860001</td>\n",
       "      <td>209.449997</td>\n",
       "      <td>210.039993</td>\n",
       "      <td>219.350006</td>\n",
       "      <td>79428800.0</td>\n",
       "      <td>219.350006</td>\n",
       "    </tr>\n",
       "    <tr>\n",
       "      <th>2022-10-18</th>\n",
       "      <td>229.820007</td>\n",
       "      <td>217.250000</td>\n",
       "      <td>229.500000</td>\n",
       "      <td>220.190002</td>\n",
       "      <td>75891900.0</td>\n",
       "      <td>220.190002</td>\n",
       "    </tr>\n",
       "    <tr>\n",
       "      <th>2022-10-19</th>\n",
       "      <td>222.929993</td>\n",
       "      <td>217.779999</td>\n",
       "      <td>219.800003</td>\n",
       "      <td>222.039993</td>\n",
       "      <td>66571500.0</td>\n",
       "      <td>222.039993</td>\n",
       "    </tr>\n",
       "    <tr>\n",
       "      <th>2022-10-20</th>\n",
       "      <td>215.550003</td>\n",
       "      <td>202.000000</td>\n",
       "      <td>208.279999</td>\n",
       "      <td>207.279999</td>\n",
       "      <td>117798100.0</td>\n",
       "      <td>207.279999</td>\n",
       "    </tr>\n",
       "    <tr>\n",
       "      <th>2022-10-21</th>\n",
       "      <td>214.660004</td>\n",
       "      <td>203.800003</td>\n",
       "      <td>206.419998</td>\n",
       "      <td>214.440002</td>\n",
       "      <td>75713800.0</td>\n",
       "      <td>214.440002</td>\n",
       "    </tr>\n",
       "    <tr>\n",
       "      <th>2022-10-24</th>\n",
       "      <td>213.500000</td>\n",
       "      <td>198.589996</td>\n",
       "      <td>205.820007</td>\n",
       "      <td>211.250000</td>\n",
       "      <td>100446800.0</td>\n",
       "      <td>211.250000</td>\n",
       "    </tr>\n",
       "    <tr>\n",
       "      <th>2022-10-25</th>\n",
       "      <td>224.350006</td>\n",
       "      <td>210.000000</td>\n",
       "      <td>210.100006</td>\n",
       "      <td>222.419998</td>\n",
       "      <td>96507900.0</td>\n",
       "      <td>222.419998</td>\n",
       "    </tr>\n",
       "    <tr>\n",
       "      <th>2022-10-26</th>\n",
       "      <td>230.600006</td>\n",
       "      <td>218.199997</td>\n",
       "      <td>219.399994</td>\n",
       "      <td>224.639999</td>\n",
       "      <td>85012500.0</td>\n",
       "      <td>224.639999</td>\n",
       "    </tr>\n",
       "    <tr>\n",
       "      <th>2022-10-27</th>\n",
       "      <td>233.809998</td>\n",
       "      <td>222.850006</td>\n",
       "      <td>229.770004</td>\n",
       "      <td>225.089996</td>\n",
       "      <td>61638800.0</td>\n",
       "      <td>225.089996</td>\n",
       "    </tr>\n",
       "    <tr>\n",
       "      <th>2022-10-28</th>\n",
       "      <td>228.860001</td>\n",
       "      <td>216.350006</td>\n",
       "      <td>225.399994</td>\n",
       "      <td>228.520004</td>\n",
       "      <td>69152400.0</td>\n",
       "      <td>228.520004</td>\n",
       "    </tr>\n",
       "    <tr>\n",
       "      <th>2022-10-31</th>\n",
       "      <td>229.850006</td>\n",
       "      <td>221.940002</td>\n",
       "      <td>226.190002</td>\n",
       "      <td>227.539993</td>\n",
       "      <td>61554300.0</td>\n",
       "      <td>227.539993</td>\n",
       "    </tr>\n",
       "    <tr>\n",
       "      <th>2022-11-01</th>\n",
       "      <td>237.399994</td>\n",
       "      <td>227.279999</td>\n",
       "      <td>234.050003</td>\n",
       "      <td>227.820007</td>\n",
       "      <td>62688800.0</td>\n",
       "      <td>227.820007</td>\n",
       "    </tr>\n",
       "    <tr>\n",
       "      <th>2022-11-02</th>\n",
       "      <td>227.869995</td>\n",
       "      <td>214.820007</td>\n",
       "      <td>226.039993</td>\n",
       "      <td>214.979996</td>\n",
       "      <td>63070300.0</td>\n",
       "      <td>214.979996</td>\n",
       "    </tr>\n",
       "    <tr>\n",
       "      <th>2022-11-03</th>\n",
       "      <td>221.199997</td>\n",
       "      <td>210.139999</td>\n",
       "      <td>211.360001</td>\n",
       "      <td>215.309998</td>\n",
       "      <td>56538800.0</td>\n",
       "      <td>215.309998</td>\n",
       "    </tr>\n",
       "    <tr>\n",
       "      <th>2022-11-04</th>\n",
       "      <td>223.800003</td>\n",
       "      <td>203.080002</td>\n",
       "      <td>222.600006</td>\n",
       "      <td>207.470001</td>\n",
       "      <td>98453100.0</td>\n",
       "      <td>207.470001</td>\n",
       "    </tr>\n",
       "    <tr>\n",
       "      <th>2022-11-07</th>\n",
       "      <td>208.899994</td>\n",
       "      <td>196.660004</td>\n",
       "      <td>208.649994</td>\n",
       "      <td>197.080002</td>\n",
       "      <td>93916500.0</td>\n",
       "      <td>197.080002</td>\n",
       "    </tr>\n",
       "    <tr>\n",
       "      <th>2022-11-08</th>\n",
       "      <td>195.199997</td>\n",
       "      <td>186.750000</td>\n",
       "      <td>194.020004</td>\n",
       "      <td>191.300003</td>\n",
       "      <td>128605500.0</td>\n",
       "      <td>191.300003</td>\n",
       "    </tr>\n",
       "  </tbody>\n",
       "</table>\n",
       "</div>"
      ],
      "text/plain": [
       "                  High         Low        Open       Close       Volume  \\\n",
       "Date                                                                      \n",
       "2022-10-12  219.300003  211.509995  215.330002  217.240005   66860700.0   \n",
       "2022-10-13  222.990005  206.220001  208.300003  221.720001   91483000.0   \n",
       "2022-10-14  226.259995  204.160004  224.009995  204.990005   94124500.0   \n",
       "2022-10-17  221.860001  209.449997  210.039993  219.350006   79428800.0   \n",
       "2022-10-18  229.820007  217.250000  229.500000  220.190002   75891900.0   \n",
       "2022-10-19  222.929993  217.779999  219.800003  222.039993   66571500.0   \n",
       "2022-10-20  215.550003  202.000000  208.279999  207.279999  117798100.0   \n",
       "2022-10-21  214.660004  203.800003  206.419998  214.440002   75713800.0   \n",
       "2022-10-24  213.500000  198.589996  205.820007  211.250000  100446800.0   \n",
       "2022-10-25  224.350006  210.000000  210.100006  222.419998   96507900.0   \n",
       "2022-10-26  230.600006  218.199997  219.399994  224.639999   85012500.0   \n",
       "2022-10-27  233.809998  222.850006  229.770004  225.089996   61638800.0   \n",
       "2022-10-28  228.860001  216.350006  225.399994  228.520004   69152400.0   \n",
       "2022-10-31  229.850006  221.940002  226.190002  227.539993   61554300.0   \n",
       "2022-11-01  237.399994  227.279999  234.050003  227.820007   62688800.0   \n",
       "2022-11-02  227.869995  214.820007  226.039993  214.979996   63070300.0   \n",
       "2022-11-03  221.199997  210.139999  211.360001  215.309998   56538800.0   \n",
       "2022-11-04  223.800003  203.080002  222.600006  207.470001   98453100.0   \n",
       "2022-11-07  208.899994  196.660004  208.649994  197.080002   93916500.0   \n",
       "2022-11-08  195.199997  186.750000  194.020004  191.300003  128605500.0   \n",
       "\n",
       "             Adj Close  \n",
       "Date                    \n",
       "2022-10-12  217.240005  \n",
       "2022-10-13  221.720001  \n",
       "2022-10-14  204.990005  \n",
       "2022-10-17  219.350006  \n",
       "2022-10-18  220.190002  \n",
       "2022-10-19  222.039993  \n",
       "2022-10-20  207.279999  \n",
       "2022-10-21  214.440002  \n",
       "2022-10-24  211.250000  \n",
       "2022-10-25  222.419998  \n",
       "2022-10-26  224.639999  \n",
       "2022-10-27  225.089996  \n",
       "2022-10-28  228.520004  \n",
       "2022-10-31  227.539993  \n",
       "2022-11-01  227.820007  \n",
       "2022-11-02  214.979996  \n",
       "2022-11-03  215.309998  \n",
       "2022-11-04  207.470001  \n",
       "2022-11-07  197.080002  \n",
       "2022-11-08  191.300003  "
      ]
     },
     "execution_count": 6,
     "metadata": {},
     "output_type": "execute_result"
    }
   ],
   "source": [
    "df_tsla.tail(20)"
   ]
  },
  {
   "cell_type": "code",
   "execution_count": 9,
   "id": "0c2ac100",
   "metadata": {},
   "outputs": [
    {
     "data": {
      "text/plain": [
       "<AxesSubplot: xlabel='Date'>"
      ]
     },
     "execution_count": 9,
     "metadata": {},
     "output_type": "execute_result"
    },
    {
     "data": {
      "image/png": "[encoded data removed]",
      "text/plain": [
       "<Figure size 864x288 with 1 Axes>"
      ]
     },
     "metadata": {
      "needs_background": "light"
     },
     "output_type": "display_data"
    }
   ],
   "source": [
    "df_tsla['High'].plot(figsize=(12,4))"
   ]
  },
  {
   "cell_type": "code",
   "execution_count": 12,
   "id": "ce28281f",
   "metadata": {},
   "outputs": [
    {
     "data": {
      "text/plain": [
       "(1258, 6)"
      ]
     },
     "execution_count": 12,
     "metadata": {},
     "output_type": "execute_result"
    }
   ],
   "source": [
    "df_tsla.shape"
   ]
  },
  {
   "cell_type": "code",
   "execution_count": 18,
   "id": "c1900014",
   "metadata": {},
   "outputs": [
    {
     "data": {
      "image/png": "[encoded data removed]",
      "text/plain": [
       "<Figure size 432x288 with 1 Axes>"
      ]
     },
     "metadata": {
      "needs_background": "light"
     },
     "output_type": "display_data"
    }
   ],
   "source": [
    "plt.plot(df_tsla['High'], df_tsla['Volume'])\n",
    "plt.show()"
   ]
  },
  {
   "cell_type": "code",
   "execution_count": 22,
   "id": "0d1b37bd",
   "metadata": {},
   "outputs": [
    {
     "data": {
      "text/plain": [
       "[<matplotlib.lines.Line2D at 0x1e39859cac0>,\n",
       " <matplotlib.lines.Line2D at 0x1e398575790>]"
      ]
     },
     "execution_count": 22,
     "metadata": {},
     "output_type": "execute_result"
    },
    {
     "data": {
      "image/png": "[encoded data removed]",
      "text/plain": [
       "<Figure size 432x288 with 1 Axes>"
      ]
     },
     "metadata": {
      "needs_background": "light"
     },
     "output_type": "display_data"
    }
   ],
   "source": [
    "plt.plot('High', 'Volume','Close', data=df_tsla)"
   ]
  },
  {
   "cell_type": "code",
   "execution_count": 26,
   "id": "6a35d572",
   "metadata": {},
   "outputs": [
    {
     "data": {
      "text/plain": [
       "<AxesSubplot: xlabel='Date'>"
      ]
     },
     "execution_count": 26,
     "metadata": {},
     "output_type": "execute_result"
    },
    {
     "data": {
      "image/png": "[encoded data removed]",
      "text/plain": [
       "<Figure size 864x288 with 1 Axes>"
      ]
     },
     "metadata": {
      "needs_background": "light"
     },
     "output_type": "display_data"
    }
   ],
   "source": [
    "df_tsla['High'].plot(xlim=['2020-01-01','2021-10-1'],ylim=[0,300],figsize=(12,4))"
   ]
  },
  {
   "cell_type": "code",
   "execution_count": 27,
   "id": "01006210",
   "metadata": {},
   "outputs": [
    {
     "data": {
      "text/plain": [
       "<AxesSubplot: xlabel='Date'>"
      ]
     },
     "execution_count": 27,
     "metadata": {},
     "output_type": "execute_result"
    },
    {
     "data": {
      "image/png": "[encoded data removed]",
      "text/plain": [
       "<Figure size 864x288 with 1 Axes>"
      ]
     },
     "metadata": {
      "needs_background": "light"
     },
     "output_type": "display_data"
    }
   ],
   "source": [
    "df_tsla['High'].plot(xlim=['2020-01-01','2021-10-1'],ylim=[0,300],figsize=(12,4), c='green')"
   ]
  },
  {
   "cell_type": "code",
   "execution_count": 31,
   "id": "93796075",
   "metadata": {},
   "outputs": [
    {
     "data": {
      "text/plain": [
       "<AxesSubplot: xlabel='Date'>"
      ]
     },
     "execution_count": 31,
     "metadata": {},
     "output_type": "execute_result"
    },
    {
     "data": {
      "image/png": "[encoded data removed]",
      "text/plain": [
       "<Figure size 864x288 with 1 Axes>"
      ]
     },
     "metadata": {
      "needs_background": "light"
     },
     "output_type": "display_data"
    }
   ],
   "source": [
    "df_tsla['High'].plot(xlim=['2020-01-01','2021-10-1'],ylim=[0,300],figsize=(12,4), c='green', ls='--')"
   ]
  },
  {
   "cell_type": "code",
   "execution_count": 34,
   "id": "c6306c00",
   "metadata": {},
   "outputs": [
    {
     "data": {
      "text/plain": [
       "DatetimeIndex(['2017-11-09', '2017-11-10', '2017-11-13', '2017-11-14',\n",
       "               '2017-11-15', '2017-11-16', '2017-11-17', '2017-11-20',\n",
       "               '2017-11-21', '2017-11-22',\n",
       "               ...\n",
       "               '2022-10-26', '2022-10-27', '2022-10-28', '2022-10-31',\n",
       "               '2022-11-01', '2022-11-02', '2022-11-03', '2022-11-04',\n",
       "               '2022-11-07', '2022-11-08'],\n",
       "              dtype='datetime64[ns]', name='Date', length=1258, freq=None)"
      ]
     },
     "execution_count": 34,
     "metadata": {},
     "output_type": "execute_result"
    }
   ],
   "source": [
    "df_tsla.index"
   ]
  },
  {
   "cell_type": "code",
   "execution_count": 39,
   "id": "ae45fe54",
   "metadata": {},
   "outputs": [],
   "source": [
    "index=df_tsla.loc['2020-01-01':'2021-10-1'].index"
   ]
  },
  {
   "cell_type": "code",
   "execution_count": 38,
   "id": "0e1f000b",
   "metadata": {},
   "outputs": [],
   "source": [
    "share_open=df_tsla.loc['2020-01-01':'2021-10-1']['Open']"
   ]
  },
  {
   "cell_type": "code",
   "execution_count": 44,
   "id": "b2e69b67",
   "metadata": {},
   "outputs": [
    {
     "data": {
      "text/plain": [
       "[<matplotlib.lines.Line2D at 0x1e39b6e6610>]"
      ]
     },
     "execution_count": 44,
     "metadata": {},
     "output_type": "execute_result"
    },
    {
     "data": {
      "image/png": "[encoded data removed]",
      "text/plain": [
       "<Figure size 432x288 with 1 Axes>"
      ]
     },
     "metadata": {
      "needs_background": "light"
     },
     "output_type": "display_data"
    }
   ],
   "source": [
    "figure,axis=plt.subplots()\n",
    "plt.tight_layout()\n",
    "figure.autofmt_xdate()\n",
    "axis.plot(index, share_open)"
   ]
  },
  {
   "cell_type": "code",
   "execution_count": 45,
   "id": "daef8d08",
   "metadata": {},
   "outputs": [
    {
     "name": "stdout",
     "output_type": "stream",
     "text": [
      "<class 'pandas.core.frame.DataFrame'>\n",
      "DatetimeIndex: 1258 entries, 2017-11-09 to 2022-11-08\n",
      "Data columns (total 6 columns):\n",
      " #   Column     Non-Null Count  Dtype  \n",
      "---  ------     --------------  -----  \n",
      " 0   High       1258 non-null   float64\n",
      " 1   Low        1258 non-null   float64\n",
      " 2   Open       1258 non-null   float64\n",
      " 3   Close      1258 non-null   float64\n",
      " 4   Volume     1258 non-null   float64\n",
      " 5   Adj Close  1258 non-null   float64\n",
      "dtypes: float64(6)\n",
      "memory usage: 101.1 KB\n"
     ]
    }
   ],
   "source": [
    "df_tsla.info()"
   ]
  },
  {
   "cell_type": "code",
   "execution_count": 48,
   "id": "55dc79d8",
   "metadata": {},
   "outputs": [],
   "source": [
    "df_tsla=df_tsla.reset_index()"
   ]
  },
  {
   "cell_type": "code",
   "execution_count": 49,
   "id": "b0b10ba6",
   "metadata": {},
   "outputs": [
    {
     "name": "stdout",
     "output_type": "stream",
     "text": [
      "<class 'pandas.core.frame.DataFrame'>\n",
      "RangeIndex: 1258 entries, 0 to 1257\n",
      "Data columns (total 7 columns):\n",
      " #   Column     Non-Null Count  Dtype         \n",
      "---  ------     --------------  -----         \n",
      " 0   Date       1258 non-null   datetime64[ns]\n",
      " 1   High       1258 non-null   float64       \n",
      " 2   Low        1258 non-null   float64       \n",
      " 3   Open       1258 non-null   float64       \n",
      " 4   Close      1258 non-null   float64       \n",
      " 5   Volume     1258 non-null   float64       \n",
      " 6   Adj Close  1258 non-null   float64       \n",
      "dtypes: datetime64[ns](1), float64(6)\n",
      "memory usage: 68.9 KB\n"
     ]
    }
   ],
   "source": [
    "df_tsla.info()"
   ]
  },
  {
   "cell_type": "code",
   "execution_count": 54,
   "id": "a221e6dd",
   "metadata": {},
   "outputs": [],
   "source": [
    "df_tsla=df_tsla.set_index('Date', drop=True)"
   ]
  },
  {
   "cell_type": "code",
   "execution_count": 55,
   "id": "788d9513",
   "metadata": {},
   "outputs": [],
   "source": [
    "from datetime import datetime"
   ]
  },
  {
   "cell_type": "code",
   "execution_count": 56,
   "id": "db349753",
   "metadata": {},
   "outputs": [
    {
     "data": {
      "text/plain": [
       "datetime.datetime(2022, 11, 9, 18, 53, 51, 916230)"
      ]
     },
     "execution_count": 56,
     "metadata": {},
     "output_type": "execute_result"
    }
   ],
   "source": [
    "datetime.now()"
   ]
  },
  {
   "cell_type": "code",
   "execution_count": 58,
   "id": "6c42f2ff",
   "metadata": {},
   "outputs": [
    {
     "data": {
      "text/html": [
       "<div>\n",
       "<style scoped>\n",
       "    .dataframe tbody tr th:only-of-type {\n",
       "        vertical-align: middle;\n",
       "    }\n",
       "\n",
       "    .dataframe tbody tr th {\n",
       "        vertical-align: top;\n",
       "    }\n",
       "\n",
       "    .dataframe thead th {\n",
       "        text-align: right;\n",
       "    }\n",
       "</style>\n",
       "<table border=\"1\" class=\"dataframe\">\n",
       "  <thead>\n",
       "    <tr style=\"text-align: right;\">\n",
       "      <th></th>\n",
       "      <th>High</th>\n",
       "      <th>Low</th>\n",
       "      <th>Open</th>\n",
       "      <th>Close</th>\n",
       "      <th>Volume</th>\n",
       "      <th>Adj Close</th>\n",
       "    </tr>\n",
       "    <tr>\n",
       "      <th>Date</th>\n",
       "      <th></th>\n",
       "      <th></th>\n",
       "      <th></th>\n",
       "      <th></th>\n",
       "      <th></th>\n",
       "      <th></th>\n",
       "    </tr>\n",
       "  </thead>\n",
       "  <tbody>\n",
       "    <tr>\n",
       "      <th>2017-12-31</th>\n",
       "      <td>23.162666</td>\n",
       "      <td>22.505333</td>\n",
       "      <td>22.993334</td>\n",
       "      <td>22.896667</td>\n",
       "      <td>206026500.0</td>\n",
       "      <td>22.896667</td>\n",
       "    </tr>\n",
       "    <tr>\n",
       "      <th>2018-12-31</th>\n",
       "      <td>25.830667</td>\n",
       "      <td>24.474667</td>\n",
       "      <td>25.000000</td>\n",
       "      <td>25.304667</td>\n",
       "      <td>504745500.0</td>\n",
       "      <td>25.304667</td>\n",
       "    </tr>\n",
       "    <tr>\n",
       "      <th>2019-12-31</th>\n",
       "      <td>29.020666</td>\n",
       "      <td>28.423332</td>\n",
       "      <td>29.000000</td>\n",
       "      <td>28.729334</td>\n",
       "      <td>450091500.0</td>\n",
       "      <td>28.729334</td>\n",
       "    </tr>\n",
       "    <tr>\n",
       "      <th>2020-12-31</th>\n",
       "      <td>239.573334</td>\n",
       "      <td>230.373337</td>\n",
       "      <td>233.330002</td>\n",
       "      <td>235.223328</td>\n",
       "      <td>914082000.0</td>\n",
       "      <td>235.223328</td>\n",
       "    </tr>\n",
       "    <tr>\n",
       "      <th>2021-12-31</th>\n",
       "      <td>414.496674</td>\n",
       "      <td>405.666656</td>\n",
       "      <td>411.470001</td>\n",
       "      <td>409.970001</td>\n",
       "      <td>268189500.0</td>\n",
       "      <td>409.970001</td>\n",
       "    </tr>\n",
       "    <tr>\n",
       "      <th>2022-12-31</th>\n",
       "      <td>402.666656</td>\n",
       "      <td>378.679993</td>\n",
       "      <td>396.516663</td>\n",
       "      <td>399.926666</td>\n",
       "      <td>151565700.0</td>\n",
       "      <td>399.926666</td>\n",
       "    </tr>\n",
       "  </tbody>\n",
       "</table>\n",
       "</div>"
      ],
      "text/plain": [
       "                  High         Low        Open       Close       Volume  \\\n",
       "Date                                                                      \n",
       "2017-12-31   23.162666   22.505333   22.993334   22.896667  206026500.0   \n",
       "2018-12-31   25.830667   24.474667   25.000000   25.304667  504745500.0   \n",
       "2019-12-31   29.020666   28.423332   29.000000   28.729334  450091500.0   \n",
       "2020-12-31  239.573334  230.373337  233.330002  235.223328  914082000.0   \n",
       "2021-12-31  414.496674  405.666656  411.470001  409.970001  268189500.0   \n",
       "2022-12-31  402.666656  378.679993  396.516663  399.926666  151565700.0   \n",
       "\n",
       "             Adj Close  \n",
       "Date                    \n",
       "2017-12-31   22.896667  \n",
       "2018-12-31   25.304667  \n",
       "2019-12-31   28.729334  \n",
       "2020-12-31  235.223328  \n",
       "2021-12-31  409.970001  \n",
       "2022-12-31  399.926666  "
      ]
     },
     "execution_count": 58,
     "metadata": {},
     "output_type": "execute_result"
    }
   ],
   "source": [
    "df_tsla.resample(rule='A').max()"
   ]
  },
  {
   "cell_type": "code",
   "execution_count": 59,
   "id": "9e7cfd48",
   "metadata": {},
   "outputs": [
    {
     "data": {
      "text/html": [
       "<div>\n",
       "<style scoped>\n",
       "    .dataframe tbody tr th:only-of-type {\n",
       "        vertical-align: middle;\n",
       "    }\n",
       "\n",
       "    .dataframe tbody tr th {\n",
       "        vertical-align: top;\n",
       "    }\n",
       "\n",
       "    .dataframe thead th {\n",
       "        text-align: right;\n",
       "    }\n",
       "</style>\n",
       "<table border=\"1\" class=\"dataframe\">\n",
       "  <thead>\n",
       "    <tr style=\"text-align: right;\">\n",
       "      <th></th>\n",
       "      <th>High</th>\n",
       "      <th>Low</th>\n",
       "      <th>Open</th>\n",
       "      <th>Close</th>\n",
       "      <th>Volume</th>\n",
       "      <th>Adj Close</th>\n",
       "    </tr>\n",
       "    <tr>\n",
       "      <th>Date</th>\n",
       "      <th></th>\n",
       "      <th></th>\n",
       "      <th></th>\n",
       "      <th></th>\n",
       "      <th></th>\n",
       "      <th></th>\n",
       "    </tr>\n",
       "  </thead>\n",
       "  <tbody>\n",
       "    <tr>\n",
       "      <th>2017-12-31</th>\n",
       "      <td>20.297333</td>\n",
       "      <td>19.753332</td>\n",
       "      <td>20.006666</td>\n",
       "      <td>20.199333</td>\n",
       "      <td>48661500.0</td>\n",
       "      <td>20.199333</td>\n",
       "    </tr>\n",
       "    <tr>\n",
       "      <th>2018-12-31</th>\n",
       "      <td>17.355333</td>\n",
       "      <td>16.306000</td>\n",
       "      <td>16.851999</td>\n",
       "      <td>16.704000</td>\n",
       "      <td>46210500.0</td>\n",
       "      <td>16.704000</td>\n",
       "    </tr>\n",
       "    <tr>\n",
       "      <th>2019-12-31</th>\n",
       "      <td>12.445333</td>\n",
       "      <td>11.799333</td>\n",
       "      <td>12.073333</td>\n",
       "      <td>11.931333</td>\n",
       "      <td>36984000.0</td>\n",
       "      <td>11.931333</td>\n",
       "    </tr>\n",
       "    <tr>\n",
       "      <th>2020-12-31</th>\n",
       "      <td>26.990667</td>\n",
       "      <td>23.367332</td>\n",
       "      <td>24.980000</td>\n",
       "      <td>24.081333</td>\n",
       "      <td>52073100.0</td>\n",
       "      <td>24.081333</td>\n",
       "    </tr>\n",
       "    <tr>\n",
       "      <th>2021-12-31</th>\n",
       "      <td>188.736664</td>\n",
       "      <td>179.830002</td>\n",
       "      <td>184.183334</td>\n",
       "      <td>187.666672</td>\n",
       "      <td>29401800.0</td>\n",
       "      <td>187.666672</td>\n",
       "    </tr>\n",
       "    <tr>\n",
       "      <th>2022-12-31</th>\n",
       "      <td>195.199997</td>\n",
       "      <td>186.750000</td>\n",
       "      <td>194.020004</td>\n",
       "      <td>191.300003</td>\n",
       "      <td>41864700.0</td>\n",
       "      <td>191.300003</td>\n",
       "    </tr>\n",
       "  </tbody>\n",
       "</table>\n",
       "</div>"
      ],
      "text/plain": [
       "                  High         Low        Open       Close      Volume  \\\n",
       "Date                                                                     \n",
       "2017-12-31   20.297333   19.753332   20.006666   20.199333  48661500.0   \n",
       "2018-12-31   17.355333   16.306000   16.851999   16.704000  46210500.0   \n",
       "2019-12-31   12.445333   11.799333   12.073333   11.931333  36984000.0   \n",
       "2020-12-31   26.990667   23.367332   24.980000   24.081333  52073100.0   \n",
       "2021-12-31  188.736664  179.830002  184.183334  187.666672  29401800.0   \n",
       "2022-12-31  195.199997  186.750000  194.020004  191.300003  41864700.0   \n",
       "\n",
       "             Adj Close  \n",
       "Date                    \n",
       "2017-12-31   20.199333  \n",
       "2018-12-31   16.704000  \n",
       "2019-12-31   11.931333  \n",
       "2020-12-31   24.081333  \n",
       "2021-12-31  187.666672  \n",
       "2022-12-31  191.300003  "
      ]
     },
     "execution_count": 59,
     "metadata": {},
     "output_type": "execute_result"
    }
   ],
   "source": [
    "df_tsla.resample(rule='A').min()"
   ]
  },
  {
   "cell_type": "code",
   "execution_count": 60,
   "id": "898e15d6",
   "metadata": {},
   "outputs": [
    {
     "data": {
      "text/plain": [
       "<AxesSubplot: xlabel='Date'>"
      ]
     },
     "execution_count": 60,
     "metadata": {},
     "output_type": "execute_result"
    },
    {
     "data": {
      "image/png": "[encoded data removed]",
      "text/plain": [
       "<Figure size 432x288 with 1 Axes>"
      ]
     },
     "metadata": {
      "needs_background": "light"
     },
     "output_type": "display_data"
    }
   ],
   "source": [
    "df_tsla.resample(rule='A').min()['Open'].plot()"
   ]
  },
  {
   "cell_type": "code",
   "execution_count": 61,
   "id": "52976cc8",
   "metadata": {},
   "outputs": [
    {
     "data": {
      "text/html": [
       "<div>\n",
       "<style scoped>\n",
       "    .dataframe tbody tr th:only-of-type {\n",
       "        vertical-align: middle;\n",
       "    }\n",
       "\n",
       "    .dataframe tbody tr th {\n",
       "        vertical-align: top;\n",
       "    }\n",
       "\n",
       "    .dataframe thead th {\n",
       "        text-align: right;\n",
       "    }\n",
       "</style>\n",
       "<table border=\"1\" class=\"dataframe\">\n",
       "  <thead>\n",
       "    <tr style=\"text-align: right;\">\n",
       "      <th></th>\n",
       "      <th>High</th>\n",
       "      <th>Low</th>\n",
       "      <th>Open</th>\n",
       "      <th>Close</th>\n",
       "      <th>Volume</th>\n",
       "      <th>Adj Close</th>\n",
       "    </tr>\n",
       "    <tr>\n",
       "      <th>Date</th>\n",
       "      <th></th>\n",
       "      <th></th>\n",
       "      <th></th>\n",
       "      <th></th>\n",
       "      <th></th>\n",
       "      <th></th>\n",
       "    </tr>\n",
       "  </thead>\n",
       "  <tbody>\n",
       "    <tr>\n",
       "      <th>2017-10-01</th>\n",
       "      <td>20.297333</td>\n",
       "      <td>19.753332</td>\n",
       "      <td>20.006666</td>\n",
       "      <td>20.199333</td>\n",
       "      <td>48661500.0</td>\n",
       "      <td>20.199333</td>\n",
       "    </tr>\n",
       "    <tr>\n",
       "      <th>2018-01-01</th>\n",
       "      <td>17.912001</td>\n",
       "      <td>16.547333</td>\n",
       "      <td>17.099333</td>\n",
       "      <td>17.185333</td>\n",
       "      <td>48294000.0</td>\n",
       "      <td>17.185333</td>\n",
       "    </tr>\n",
       "    <tr>\n",
       "      <th>2018-04-01</th>\n",
       "      <td>17.355333</td>\n",
       "      <td>16.306000</td>\n",
       "      <td>16.851999</td>\n",
       "      <td>16.832001</td>\n",
       "      <td>58126500.0</td>\n",
       "      <td>16.832001</td>\n",
       "    </tr>\n",
       "    <tr>\n",
       "      <th>2018-07-01</th>\n",
       "      <td>17.889999</td>\n",
       "      <td>16.816668</td>\n",
       "      <td>17.340000</td>\n",
       "      <td>17.549334</td>\n",
       "      <td>54039000.0</td>\n",
       "      <td>17.549334</td>\n",
       "    </tr>\n",
       "    <tr>\n",
       "      <th>2018-10-01</th>\n",
       "      <td>17.457333</td>\n",
       "      <td>16.518000</td>\n",
       "      <td>17.016666</td>\n",
       "      <td>16.704000</td>\n",
       "      <td>46210500.0</td>\n",
       "      <td>16.704000</td>\n",
       "    </tr>\n",
       "    <tr>\n",
       "      <th>2019-01-01</th>\n",
       "      <td>17.545334</td>\n",
       "      <td>16.964001</td>\n",
       "      <td>17.313999</td>\n",
       "      <td>17.361334</td>\n",
       "      <td>55150500.0</td>\n",
       "      <td>17.361334</td>\n",
       "    </tr>\n",
       "    <tr>\n",
       "      <th>2019-04-01</th>\n",
       "      <td>12.445333</td>\n",
       "      <td>11.799333</td>\n",
       "      <td>12.073333</td>\n",
       "      <td>11.931333</td>\n",
       "      <td>76897500.0</td>\n",
       "      <td>11.931333</td>\n",
       "    </tr>\n",
       "    <tr>\n",
       "      <th>2019-07-01</th>\n",
       "      <td>14.334667</td>\n",
       "      <td>14.066667</td>\n",
       "      <td>14.240000</td>\n",
       "      <td>14.093333</td>\n",
       "      <td>48382500.0</td>\n",
       "      <td>14.093333</td>\n",
       "    </tr>\n",
       "    <tr>\n",
       "      <th>2019-10-01</th>\n",
       "      <td>15.632000</td>\n",
       "      <td>14.952000</td>\n",
       "      <td>15.320000</td>\n",
       "      <td>15.428667</td>\n",
       "      <td>36984000.0</td>\n",
       "      <td>15.428667</td>\n",
       "    </tr>\n",
       "    <tr>\n",
       "      <th>2020-01-01</th>\n",
       "      <td>26.990667</td>\n",
       "      <td>23.367332</td>\n",
       "      <td>24.980000</td>\n",
       "      <td>24.081333</td>\n",
       "      <td>142981500.0</td>\n",
       "      <td>24.081333</td>\n",
       "    </tr>\n",
       "    <tr>\n",
       "      <th>2020-04-01</th>\n",
       "      <td>32.950668</td>\n",
       "      <td>29.760000</td>\n",
       "      <td>32.068668</td>\n",
       "      <td>30.298000</td>\n",
       "      <td>95436000.0</td>\n",
       "      <td>30.298000</td>\n",
       "    </tr>\n",
       "    <tr>\n",
       "      <th>2020-07-01</th>\n",
       "      <td>75.688667</td>\n",
       "      <td>72.033333</td>\n",
       "      <td>72.199997</td>\n",
       "      <td>74.641998</td>\n",
       "      <td>74217000.0</td>\n",
       "      <td>74.641998</td>\n",
       "    </tr>\n",
       "    <tr>\n",
       "      <th>2020-10-01</th>\n",
       "      <td>135.660004</td>\n",
       "      <td>126.370003</td>\n",
       "      <td>131.333328</td>\n",
       "      <td>129.346664</td>\n",
       "      <td>52073100.0</td>\n",
       "      <td>129.346664</td>\n",
       "    </tr>\n",
       "    <tr>\n",
       "      <th>2021-01-01</th>\n",
       "      <td>205.493332</td>\n",
       "      <td>179.830002</td>\n",
       "      <td>200.183334</td>\n",
       "      <td>187.666672</td>\n",
       "      <td>45473100.0</td>\n",
       "      <td>187.666672</td>\n",
       "    </tr>\n",
       "    <tr>\n",
       "      <th>2021-04-01</th>\n",
       "      <td>188.736664</td>\n",
       "      <td>182.326660</td>\n",
       "      <td>184.183334</td>\n",
       "      <td>187.820007</td>\n",
       "      <td>48615900.0</td>\n",
       "      <td>187.820007</td>\n",
       "    </tr>\n",
       "    <tr>\n",
       "      <th>2021-07-01</th>\n",
       "      <td>215.733337</td>\n",
       "      <td>206.820007</td>\n",
       "      <td>209.456665</td>\n",
       "      <td>214.460007</td>\n",
       "      <td>29401800.0</td>\n",
       "      <td>214.460007</td>\n",
       "    </tr>\n",
       "    <tr>\n",
       "      <th>2021-10-01</th>\n",
       "      <td>260.260010</td>\n",
       "      <td>254.529999</td>\n",
       "      <td>258.733337</td>\n",
       "      <td>258.406677</td>\n",
       "      <td>35042700.0</td>\n",
       "      <td>258.406677</td>\n",
       "    </tr>\n",
       "    <tr>\n",
       "      <th>2022-01-01</th>\n",
       "      <td>266.899994</td>\n",
       "      <td>233.333328</td>\n",
       "      <td>233.463333</td>\n",
       "      <td>254.679993</td>\n",
       "      <td>48992700.0</td>\n",
       "      <td>254.679993</td>\n",
       "    </tr>\n",
       "    <tr>\n",
       "      <th>2022-04-01</th>\n",
       "      <td>217.973328</td>\n",
       "      <td>206.856674</td>\n",
       "      <td>207.949997</td>\n",
       "      <td>209.386673</td>\n",
       "      <td>49847700.0</td>\n",
       "      <td>209.386673</td>\n",
       "    </tr>\n",
       "    <tr>\n",
       "      <th>2022-07-01</th>\n",
       "      <td>230.229996</td>\n",
       "      <td>216.166672</td>\n",
       "      <td>223.000000</td>\n",
       "      <td>227.263336</td>\n",
       "      <td>41864700.0</td>\n",
       "      <td>227.263336</td>\n",
       "    </tr>\n",
       "    <tr>\n",
       "      <th>2022-10-01</th>\n",
       "      <td>195.199997</td>\n",
       "      <td>186.750000</td>\n",
       "      <td>194.020004</td>\n",
       "      <td>191.300003</td>\n",
       "      <td>56538800.0</td>\n",
       "      <td>191.300003</td>\n",
       "    </tr>\n",
       "  </tbody>\n",
       "</table>\n",
       "</div>"
      ],
      "text/plain": [
       "                  High         Low        Open       Close       Volume  \\\n",
       "Date                                                                      \n",
       "2017-10-01   20.297333   19.753332   20.006666   20.199333   48661500.0   \n",
       "2018-01-01   17.912001   16.547333   17.099333   17.185333   48294000.0   \n",
       "2018-04-01   17.355333   16.306000   16.851999   16.832001   58126500.0   \n",
       "2018-07-01   17.889999   16.816668   17.340000   17.549334   54039000.0   \n",
       "2018-10-01   17.457333   16.518000   17.016666   16.704000   46210500.0   \n",
       "2019-01-01   17.545334   16.964001   17.313999   17.361334   55150500.0   \n",
       "2019-04-01   12.445333   11.799333   12.073333   11.931333   76897500.0   \n",
       "2019-07-01   14.334667   14.066667   14.240000   14.093333   48382500.0   \n",
       "2019-10-01   15.632000   14.952000   15.320000   15.428667   36984000.0   \n",
       "2020-01-01   26.990667   23.367332   24.980000   24.081333  142981500.0   \n",
       "2020-04-01   32.950668   29.760000   32.068668   30.298000   95436000.0   \n",
       "2020-07-01   75.688667   72.033333   72.199997   74.641998   74217000.0   \n",
       "2020-10-01  135.660004  126.370003  131.333328  129.346664   52073100.0   \n",
       "2021-01-01  205.493332  179.830002  200.183334  187.666672   45473100.0   \n",
       "2021-04-01  188.736664  182.326660  184.183334  187.820007   48615900.0   \n",
       "2021-07-01  215.733337  206.820007  209.456665  214.460007   29401800.0   \n",
       "2021-10-01  260.260010  254.529999  258.733337  258.406677   35042700.0   \n",
       "2022-01-01  266.899994  233.333328  233.463333  254.679993   48992700.0   \n",
       "2022-04-01  217.973328  206.856674  207.949997  209.386673   49847700.0   \n",
       "2022-07-01  230.229996  216.166672  223.000000  227.263336   41864700.0   \n",
       "2022-10-01  195.199997  186.750000  194.020004  191.300003   56538800.0   \n",
       "\n",
       "             Adj Close  \n",
       "Date                    \n",
       "2017-10-01   20.199333  \n",
       "2018-01-01   17.185333  \n",
       "2018-04-01   16.832001  \n",
       "2018-07-01   17.549334  \n",
       "2018-10-01   16.704000  \n",
       "2019-01-01   17.361334  \n",
       "2019-04-01   11.931333  \n",
       "2019-07-01   14.093333  \n",
       "2019-10-01   15.428667  \n",
       "2020-01-01   24.081333  \n",
       "2020-04-01   30.298000  \n",
       "2020-07-01   74.641998  \n",
       "2020-10-01  129.346664  \n",
       "2021-01-01  187.666672  \n",
       "2021-04-01  187.820007  \n",
       "2021-07-01  214.460007  \n",
       "2021-10-01  258.406677  \n",
       "2022-01-01  254.679993  \n",
       "2022-04-01  209.386673  \n",
       "2022-07-01  227.263336  \n",
       "2022-10-01  191.300003  "
      ]
     },
     "execution_count": 61,
     "metadata": {},
     "output_type": "execute_result"
    }
   ],
   "source": [
    "df_tsla.resample(rule='QS').min()"
   ]
  },
  {
   "cell_type": "code",
   "execution_count": 62,
   "id": "ca4d9f08",
   "metadata": {},
   "outputs": [
    {
     "data": {
      "text/plain": [
       "<AxesSubplot: xlabel='Date'>"
      ]
     },
     "execution_count": 62,
     "metadata": {},
     "output_type": "execute_result"
    },
    {
     "data": {
      "image/png": "[encoded data removed]",
      "text/plain": [
       "<Figure size 432x288 with 1 Axes>"
      ]
     },
     "metadata": {
      "needs_background": "light"
     },
     "output_type": "display_data"
    }
   ],
   "source": [
    "df_tsla.resample(rule='QS').min()['Open'].plot()"
   ]
  },
  {
   "cell_type": "code",
   "execution_count": null,
   "id": "209d99ea",
   "metadata": {},
   "outputs": [],
   "source": []
  }
 ],
 "metadata": {
  "kernelspec": {
   "display_name": "Python 3 (ipykernel)",
   "language": "python",
   "name": "python3"
  },
  "language_info": {
   "codemirror_mode": {
    "name": "ipython",
    "version": 3
   },
   "file_extension": ".py",
   "mimetype": "text/x-python",
   "name": "python",
   "nbconvert_exporter": "python",
   "pygments_lexer": "ipython3",
   "version": "3.9.12"
  }
 },
 "nbformat": 4,
 "nbformat_minor": 5
}
